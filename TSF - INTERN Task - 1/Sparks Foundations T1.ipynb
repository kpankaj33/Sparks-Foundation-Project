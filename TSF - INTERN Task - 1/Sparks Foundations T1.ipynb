{
 "cells": [
  {
   "cell_type": "markdown",
   "id": "b0e195a6",
   "metadata": {},
   "source": [
    "# TASK 1 :- Prediction using Supervised ML"
   ]
  },
  {
   "cell_type": "markdown",
   "id": "ccd93834",
   "metadata": {},
   "source": [
    "In this task, we will predict the percentage of marks that a student is expected to score based upon the number of hours they studied. This is a simple linear regression task as it involves just two variables."
   ]
  },
  {
   "cell_type": "markdown",
   "id": "d648e748",
   "metadata": {},
   "source": [
    "Data Science & Business Analytics Internship Task_2\n",
    "\n",
    "Author: Pankaj Kande"
   ]
  },
  {
   "cell_type": "markdown",
   "id": "7544bdd6",
   "metadata": {},
   "source": [
    "# Step 1: Importing Libraries needed to perform task"
   ]
  },
  {
   "cell_type": "markdown",
   "id": "51eb50fd",
   "metadata": {},
   "source": [
    "                     Importing all libraries required in this Project"
   ]
  },
  {
   "cell_type": "code",
   "execution_count": 180,
   "id": "8c08ae4c",
   "metadata": {},
   "outputs": [],
   "source": [
    "\n",
    "\n",
    "import pandas as pd\n",
    "import numpy  as np\n",
    "import matplotlib.pyplot as plt\n",
    "import seaborn as sns\n",
    "import warnings                   \n",
    "warnings.filterwarnings('ignore')"
   ]
  },
  {
   "cell_type": "markdown",
   "id": "bc9193a4",
   "metadata": {},
   "source": [
    "# Step 2: DATA PREPROCESSING / CLEANING"
   ]
  },
  {
   "cell_type": "markdown",
   "id": "9caa3279",
   "metadata": {},
   "source": [
    "                     Reading dataset"
   ]
  },
  {
   "cell_type": "code",
   "execution_count": 181,
   "id": "a3349bb7",
   "metadata": {},
   "outputs": [],
   "source": [
    "# Reading data from remote link\n",
    "url = \"http://bit.ly/w-data\"\n",
    "data = pd.read_csv(url)"
   ]
  },
  {
   "cell_type": "code",
   "execution_count": 182,
   "id": "7d8378fc",
   "metadata": {},
   "outputs": [
    {
     "data": {
      "text/plain": [
       "(25, 2)"
      ]
     },
     "execution_count": 182,
     "metadata": {},
     "output_type": "execute_result"
    }
   ],
   "source": [
    "data.shape"
   ]
  },
  {
   "cell_type": "code",
   "execution_count": 183,
   "id": "f322dc21",
   "metadata": {},
   "outputs": [],
   "source": [
    "pd.set_option(\"display.max_columns\", None)\n",
    "pd.set_option(\"display.max_columns\", None)"
   ]
  },
  {
   "cell_type": "code",
   "execution_count": 184,
   "id": "c29c01e8",
   "metadata": {},
   "outputs": [
    {
     "data": {
      "text/html": [
       "<div>\n",
       "<style scoped>\n",
       "    .dataframe tbody tr th:only-of-type {\n",
       "        vertical-align: middle;\n",
       "    }\n",
       "\n",
       "    .dataframe tbody tr th {\n",
       "        vertical-align: top;\n",
       "    }\n",
       "\n",
       "    .dataframe thead th {\n",
       "        text-align: right;\n",
       "    }\n",
       "</style>\n",
       "<table border=\"1\" class=\"dataframe\">\n",
       "  <thead>\n",
       "    <tr style=\"text-align: right;\">\n",
       "      <th></th>\n",
       "      <th>Hours</th>\n",
       "      <th>Scores</th>\n",
       "    </tr>\n",
       "  </thead>\n",
       "  <tbody>\n",
       "    <tr>\n",
       "      <th>0</th>\n",
       "      <td>2.5</td>\n",
       "      <td>21</td>\n",
       "    </tr>\n",
       "    <tr>\n",
       "      <th>1</th>\n",
       "      <td>5.1</td>\n",
       "      <td>47</td>\n",
       "    </tr>\n",
       "    <tr>\n",
       "      <th>2</th>\n",
       "      <td>3.2</td>\n",
       "      <td>27</td>\n",
       "    </tr>\n",
       "    <tr>\n",
       "      <th>3</th>\n",
       "      <td>8.5</td>\n",
       "      <td>75</td>\n",
       "    </tr>\n",
       "    <tr>\n",
       "      <th>4</th>\n",
       "      <td>3.5</td>\n",
       "      <td>30</td>\n",
       "    </tr>\n",
       "  </tbody>\n",
       "</table>\n",
       "</div>"
      ],
      "text/plain": [
       "   Hours  Scores\n",
       "0    2.5      21\n",
       "1    5.1      47\n",
       "2    3.2      27\n",
       "3    8.5      75\n",
       "4    3.5      30"
      ]
     },
     "execution_count": 184,
     "metadata": {},
     "output_type": "execute_result"
    }
   ],
   "source": [
    "data.head()"
   ]
  },
  {
   "cell_type": "markdown",
   "id": "6c1d403d",
   "metadata": {},
   "source": [
    "               Checking Null Values"
   ]
  },
  {
   "cell_type": "code",
   "execution_count": 185,
   "id": "947ec07a",
   "metadata": {},
   "outputs": [
    {
     "data": {
      "text/plain": [
       "Hours     0\n",
       "Scores    0\n",
       "dtype: int64"
      ]
     },
     "execution_count": 185,
     "metadata": {},
     "output_type": "execute_result"
    }
   ],
   "source": [
    "data.isnull().sum().sort_values(ascending = False)"
   ]
  },
  {
   "cell_type": "markdown",
   "id": "636b91ef",
   "metadata": {},
   "source": [
    "                Checking Data Type"
   ]
  },
  {
   "cell_type": "code",
   "execution_count": 186,
   "id": "c5c3553b",
   "metadata": {},
   "outputs": [
    {
     "data": {
      "text/plain": [
       "Hours     float64\n",
       "Scores      int64\n",
       "dtype: object"
      ]
     },
     "execution_count": 186,
     "metadata": {},
     "output_type": "execute_result"
    }
   ],
   "source": [
    "data.dtypes"
   ]
  },
  {
   "cell_type": "markdown",
   "id": "35b167b0",
   "metadata": {},
   "source": [
    "# Step 3: Data Visualization"
   ]
  },
  {
   "cell_type": "markdown",
   "id": "b19e5f6e",
   "metadata": {},
   "source": [
    "                EDA  [Exploratory Data Analysis]"
   ]
  },
  {
   "cell_type": "markdown",
   "id": "39081d82",
   "metadata": {},
   "source": [
    "                Scatter plot & Correlation btw variables\n"
   ]
  },
  {
   "cell_type": "code",
   "execution_count": 187,
   "id": "22c6477f",
   "metadata": {},
   "outputs": [
    {
     "data": {
      "image/png": "[encoded data removed]",
      "text/plain": [
       "<Figure size 432x288 with 1 Axes>"
      ]
     },
     "metadata": {},
     "output_type": "display_data"
    }
   ],
   "source": [
    "data.plot(x='Hours', y='Scores', style='o')  \n",
    "plt.title('Hours vs Percentage')  \n",
    "plt.xlabel('Hours Studied')  \n",
    "plt.ylabel('Percentage Score')  \n",
    "plt.show()"
   ]
  },
  {
   "cell_type": "markdown",
   "id": "9126c900",
   "metadata": {},
   "source": [
    "*Plotting the distribution of scores"
   ]
  },
  {
   "cell_type": "markdown",
   "id": "aa1be37f",
   "metadata": {},
   "source": [
    "                  Histogram of all data's feature Distribution"
   ]
  },
  {
   "cell_type": "code",
   "execution_count": 188,
   "id": "a9ec78f3",
   "metadata": {},
   "outputs": [
    {
     "data": {
      "image/png": "[encoded data removed]",
      "text/plain": [
       "<Figure size 720x360 with 2 Axes>"
      ]
     },
     "metadata": {},
     "output_type": "display_data"
    }
   ],
   "source": [
    "data.hist(bins=30 , figsize=(10,5), color = ['violet'] )\n",
    "plt.show()"
   ]
  },
  {
   "cell_type": "code",
   "execution_count": 189,
   "id": "55f02660",
   "metadata": {},
   "outputs": [
    {
     "data": {
      "image/png": "[encoded data removed]",
      "text/plain": [
       "<Figure size 576x576 with 2 Axes>"
      ]
     },
     "metadata": {},
     "output_type": "display_data"
    }
   ],
   "source": [
    "plt.figure(figsize = (8, 8))\n",
    "sns.set(font_scale = 1)\n",
    "sns.heatmap(data.corr(), cmap = \"Blues\", annot = True, square = True, linewidths = .5)\n",
    "plt.title(\"Correlation Matrix\");"
   ]
  },
  {
   "cell_type": "markdown",
   "id": "1cac3480",
   "metadata": {},
   "source": [
    "* Here the heatmap shows positive correlation between the Hours column and Scores column."
   ]
  },
  {
   "cell_type": "code",
   "execution_count": 190,
   "id": "9ed0b803",
   "metadata": {},
   "outputs": [
    {
     "data": {
      "text/plain": [
       "<AxesSubplot:xlabel='Hours'>"
      ]
     },
     "execution_count": 190,
     "metadata": {},
     "output_type": "execute_result"
    },
    {
     "data": {
      "image/png": "[encoded data removed]",
      "text/plain": [
       "<Figure size 720x576 with 1 Axes>"
      ]
     },
     "metadata": {},
     "output_type": "display_data"
    }
   ],
   "source": [
    "data.plot(\"Hours\",\"Scores\",linestyle = \"--\",marker = \"o\",markersize = \"10\",markerfacecolor = \"red\", figsize=(10,8))\n"
   ]
  },
  {
   "cell_type": "markdown",
   "id": "2125d7af",
   "metadata": {},
   "source": [
    "- From the graphs above, we can clearly see that there is a positive linear relation between the number of hours studied and percentage of score.\n"
   ]
  },
  {
   "cell_type": "markdown",
   "id": "b0c5d1ea",
   "metadata": {},
   "source": [
    "# Step 4:  Sampling [Train Test spliting]"
   ]
  },
  {
   "cell_type": "code",
   "execution_count": 191,
   "id": "53f92bbb",
   "metadata": {},
   "outputs": [],
   "source": [
    "from sklearn.model_selection import train_test_split\n",
    "data_train , data_test = train_test_split(data, test_size= .2)"
   ]
  },
  {
   "cell_type": "code",
   "execution_count": 192,
   "id": "760701ff",
   "metadata": {},
   "outputs": [],
   "source": [
    "data_train_y = data_train.iloc[: , -1]\n",
    "data_train_x = data_train.iloc[: , 0:-1]"
   ]
  },
  {
   "cell_type": "code",
   "execution_count": 193,
   "id": "fe225edf",
   "metadata": {},
   "outputs": [],
   "source": [
    "data_test_y = data_test.iloc[: , -1]\n",
    "data_test_x = data_test.iloc[: , 0:-1]"
   ]
  },
  {
   "cell_type": "code",
   "execution_count": 194,
   "id": "917e4ee8",
   "metadata": {},
   "outputs": [
    {
     "name": "stdout",
     "output_type": "stream",
     "text": [
      "(20, 1)\n",
      "(20,)\n",
      "---------------\n",
      "(5, 1)\n",
      "(5,)\n"
     ]
    }
   ],
   "source": [
    "\n",
    "print(data_train_x.shape)\n",
    "print(data_train_y.shape)\n",
    "print(\"---------------\")\n",
    "print(data_test_x.shape)\n",
    "print(data_test_y.shape)"
   ]
  },
  {
   "cell_type": "markdown",
   "id": "eb43331f",
   "metadata": {},
   "source": [
    "# Step 5 : Training the Model.\n"
   ]
  },
  {
   "cell_type": "code",
   "execution_count": 195,
   "id": "987370e5",
   "metadata": {},
   "outputs": [],
   "source": [
    "from sklearn.linear_model import LinearRegression\n",
    "linreg = LinearRegression()"
   ]
  },
  {
   "cell_type": "code",
   "execution_count": 196,
   "id": "357bc52b",
   "metadata": {},
   "outputs": [
    {
     "data": {
      "text/plain": [
       "LinearRegression()"
      ]
     },
     "execution_count": 196,
     "metadata": {},
     "output_type": "execute_result"
    }
   ],
   "source": [
    "linreg.fit(data_train_x , data_train_y)"
   ]
  },
  {
   "cell_type": "markdown",
   "id": "5ff703d9",
   "metadata": {},
   "source": [
    "                 Rsquare"
   ]
  },
  {
   "cell_type": "code",
   "execution_count": 197,
   "id": "f2376191",
   "metadata": {},
   "outputs": [
    {
     "data": {
      "text/plain": [
       "0.9529353676735209"
      ]
     },
     "execution_count": 197,
     "metadata": {},
     "output_type": "execute_result"
    }
   ],
   "source": [
    "Rsquare = linreg.score(data_train_x , data_train_y)\n",
    "Rsquare"
   ]
  },
  {
   "cell_type": "code",
   "execution_count": 198,
   "id": "d7f43d17",
   "metadata": {},
   "outputs": [],
   "source": [
    "N = data_train_x.shape[0]\n",
    "K = data_train_x.shape[1]"
   ]
  },
  {
   "cell_type": "markdown",
   "id": "6ea692e0",
   "metadata": {},
   "source": [
    "                AdjRquare"
   ]
  },
  {
   "cell_type": "code",
   "execution_count": 199,
   "id": "6adc6fdd",
   "metadata": {},
   "outputs": [
    {
     "data": {
      "text/plain": [
       "0.9503206658776054"
      ]
     },
     "execution_count": 199,
     "metadata": {},
     "output_type": "execute_result"
    }
   ],
   "source": [
    "AdjRquare = 1 - (1-Rsquare) * (N - 1) / (N-K-1)\n",
    "AdjRquare"
   ]
  },
  {
   "cell_type": "code",
   "execution_count": 200,
   "id": "70d6384d",
   "metadata": {},
   "outputs": [
    {
     "data": {
      "text/plain": [
       "array([9.74299734])"
      ]
     },
     "execution_count": 200,
     "metadata": {},
     "output_type": "execute_result"
    }
   ],
   "source": [
    "linreg.coef_"
   ]
  },
  {
   "cell_type": "code",
   "execution_count": null,
   "id": "0e4fff11",
   "metadata": {},
   "outputs": [],
   "source": []
  },
  {
   "cell_type": "code",
   "execution_count": 201,
   "id": "63be1376",
   "metadata": {},
   "outputs": [],
   "source": [
    "pred_train = linreg.predict(data_train_x) \n",
    "pred_test  = linreg.predict(data_test_x)"
   ]
  },
  {
   "cell_type": "code",
   "execution_count": 202,
   "id": "22e80a28",
   "metadata": {},
   "outputs": [],
   "source": [
    "err_train = data_train_y - pred_train\n",
    "err_test  = data_test_y  - pred_test"
   ]
  },
  {
   "cell_type": "markdown",
   "id": "2558cf92",
   "metadata": {},
   "source": [
    "                                 Scatter plot on error"
   ]
  },
  {
   "cell_type": "code",
   "execution_count": 203,
   "id": "abfeb850",
   "metadata": {},
   "outputs": [
    {
     "data": {
      "text/plain": [
       "Text(0.5, 1.0, 'scatter plot on error')"
      ]
     },
     "execution_count": 203,
     "metadata": {},
     "output_type": "execute_result"
    },
    {
     "data": {
      "image/png": "[encoded data removed]",
      "text/plain": [
       "<Figure size 432x288 with 1 Axes>"
      ]
     },
     "metadata": {},
     "output_type": "display_data"
    }
   ],
   "source": [
    "plt.plot(err_train , \"*\")\n",
    "plt.axhline(y=0.8,color=\"red\")\n",
    "#plt.axhline(y=-0.1,color=\"red\")\n",
    "plt.title(\"scatter plot on error\",size=15)"
   ]
  },
  {
   "cell_type": "code",
   "execution_count": 204,
   "id": "b4cfefd8",
   "metadata": {},
   "outputs": [
    {
     "data": {
      "text/plain": [
       "(array([1., 0., 0., 0., 0., 0., 1., 2., 2., 0., 2., 0., 0., 0., 0., 0., 0.,\n",
       "        0., 0., 0., 1., 0., 3., 2., 0., 1., 0., 2., 0., 3.]),\n",
       " array([-10.87876097, -10.2847577 ,  -9.69075443,  -9.09675116,\n",
       "         -8.50274788,  -7.90874461,  -7.31474134,  -6.72073807,\n",
       "         -6.1267348 ,  -5.53273153,  -4.93872826,  -4.34472499,\n",
       "         -3.75072171,  -3.15671844,  -2.56271517,  -1.9687119 ,\n",
       "         -1.37470863,  -0.78070536,  -0.18670209,   0.40730118,\n",
       "          1.00130445,   1.59530773,   2.189311  ,   2.78331427,\n",
       "          3.37731754,   3.97132081,   4.56532408,   5.15932735,\n",
       "          5.75333062,   6.3473339 ,   6.94133717]),\n",
       " <BarContainer object of 30 artists>)"
      ]
     },
     "execution_count": 204,
     "metadata": {},
     "output_type": "execute_result"
    },
    {
     "data": {
      "image/png": "[encoded data removed]",
      "text/plain": [
       "<Figure size 432x288 with 1 Axes>"
      ]
     },
     "metadata": {},
     "output_type": "display_data"
    }
   ],
   "source": [
    "plt.hist(err_train , bins = 30 , edgecolor = 'k')"
   ]
  },
  {
   "cell_type": "markdown",
   "id": "d95d0ff0",
   "metadata": {},
   "source": [
    "                             Plotting the regression line"
   ]
  },
  {
   "cell_type": "code",
   "execution_count": 205,
   "id": "cc6667ce",
   "metadata": {},
   "outputs": [
    {
     "data": {
      "image/png": "[encoded data removed]",
      "text/plain": [
       "<Figure size 432x288 with 1 Axes>"
      ]
     },
     "metadata": {},
     "output_type": "display_data"
    }
   ],
   "source": [
    "\n",
    "line = linreg.coef_*data_train_x+linreg.intercept_\n",
    "\n",
    "# Plotting for the test data\n",
    "plt.scatter(data_train_x, data_train_y,color='green',marker='+')\n",
    "plt.plot(data_train_x, line, color='Orange')\n",
    "plt.show()"
   ]
  },
  {
   "cell_type": "code",
   "execution_count": 206,
   "id": "769a64f6",
   "metadata": {},
   "outputs": [
    {
     "data": {
      "text/html": [
       "<div>\n",
       "<style scoped>\n",
       "    .dataframe tbody tr th:only-of-type {\n",
       "        vertical-align: middle;\n",
       "    }\n",
       "\n",
       "    .dataframe tbody tr th {\n",
       "        vertical-align: top;\n",
       "    }\n",
       "\n",
       "    .dataframe thead th {\n",
       "        text-align: right;\n",
       "    }\n",
       "</style>\n",
       "<table border=\"1\" class=\"dataframe\">\n",
       "  <thead>\n",
       "    <tr style=\"text-align: right;\">\n",
       "      <th></th>\n",
       "      <th>Actual</th>\n",
       "      <th>Predict</th>\n",
       "    </tr>\n",
       "  </thead>\n",
       "  <tbody>\n",
       "    <tr>\n",
       "      <th>21</th>\n",
       "      <td>54</td>\n",
       "      <td>50.0</td>\n",
       "    </tr>\n",
       "    <tr>\n",
       "      <th>22</th>\n",
       "      <td>35</td>\n",
       "      <td>40.0</td>\n",
       "    </tr>\n",
       "    <tr>\n",
       "      <th>8</th>\n",
       "      <td>81</td>\n",
       "      <td>84.0</td>\n",
       "    </tr>\n",
       "    <tr>\n",
       "      <th>4</th>\n",
       "      <td>30</td>\n",
       "      <td>37.0</td>\n",
       "    </tr>\n",
       "    <tr>\n",
       "      <th>20</th>\n",
       "      <td>30</td>\n",
       "      <td>29.0</td>\n",
       "    </tr>\n",
       "  </tbody>\n",
       "</table>\n",
       "</div>"
      ],
      "text/plain": [
       "    Actual  Predict\n",
       "21      54     50.0\n",
       "22      35     40.0\n",
       "8       81     84.0\n",
       "4       30     37.0\n",
       "20      30     29.0"
      ]
     },
     "execution_count": 206,
     "metadata": {},
     "output_type": "execute_result"
    }
   ],
   "source": [
    "pred_act = pd.DataFrame({\"Actual\" : data_test_y, \"Predict\" : np.round(pred_test) })\n",
    "pred_act"
   ]
  },
  {
   "cell_type": "code",
   "execution_count": 207,
   "id": "7576a0e4",
   "metadata": {},
   "outputs": [
    {
     "data": {
      "text/plain": [
       "<AxesSubplot:xlabel='Actual', ylabel='Predict'>"
      ]
     },
     "execution_count": 207,
     "metadata": {},
     "output_type": "execute_result"
    },
    {
     "data": {
      "image/png": "[encoded data removed]",
      "text/plain": [
       "<Figure size 432x288 with 1 Axes>"
      ]
     },
     "metadata": {},
     "output_type": "display_data"
    }
   ],
   "source": [
    "sns.regplot( x = \"Actual\" , y = \"Predict\" , data = pred_act)"
   ]
  },
  {
   "cell_type": "code",
   "execution_count": null,
   "id": "38bd8270",
   "metadata": {},
   "outputs": [],
   "source": []
  },
  {
   "cell_type": "markdown",
   "id": "2184bd53",
   "metadata": {},
   "source": [
    "# Step 6 : Evaluating the model\n"
   ]
  },
  {
   "cell_type": "markdown",
   "id": "0d39e28a",
   "metadata": {},
   "source": [
    "               * Mean Absolute Error"
   ]
  },
  {
   "cell_type": "code",
   "execution_count": 208,
   "id": "78185ac2",
   "metadata": {},
   "outputs": [
    {
     "name": "stdout",
     "output_type": "stream",
     "text": [
      "Mean Absolute Error: 3.9963124068694604\n"
     ]
    }
   ],
   "source": [
    "from sklearn import metrics  \n",
    "print('Mean Absolute Error:', \n",
    "      metrics.mean_absolute_error(data_test_y , pred_test)) "
   ]
  },
  {
   "cell_type": "markdown",
   "id": "c751b75e",
   "metadata": {},
   "source": [
    "               * MAPE [ mean absolute percentage error ]"
   ]
  },
  {
   "cell_type": "code",
   "execution_count": 209,
   "id": "ee6b8214",
   "metadata": {},
   "outputs": [
    {
     "data": {
      "text/plain": [
       "10.0"
      ]
     },
     "execution_count": 209,
     "metadata": {},
     "output_type": "execute_result"
    }
   ],
   "source": [
    "MAPE = np.mean(np.abs(err_test * 100 / data_test_y))\n",
    "np.round(MAPE)"
   ]
  },
  {
   "cell_type": "markdown",
   "id": "027d1b05",
   "metadata": {},
   "source": [
    "                * Accuracy"
   ]
  },
  {
   "cell_type": "code",
   "execution_count": 210,
   "id": "bd50e78c",
   "metadata": {},
   "outputs": [
    {
     "data": {
      "text/plain": [
       "89.62900116065677"
      ]
     },
     "execution_count": 210,
     "metadata": {},
     "output_type": "execute_result"
    }
   ],
   "source": [
    "ACC = (100 - MAPE )\n",
    "ACC"
   ]
  },
  {
   "cell_type": "markdown",
   "id": "9aba95c4",
   "metadata": {},
   "source": [
    "                * Testing your own data.\n"
   ]
  },
  {
   "cell_type": "code",
   "execution_count": 211,
   "id": "e563e40d",
   "metadata": {},
   "outputs": [
    {
     "name": "stdout",
     "output_type": "stream",
     "text": [
      "No. of Hours = 9.25\n",
      "Predicted Score = 93.1860089706347\n"
     ]
    }
   ],
   "source": [
    "hours = 9.25\n",
    "test = np.array([hours])\n",
    "test = test.reshape(-1,1)\n",
    "own_pred = linreg.predict(test)\n",
    "print (\"No. of Hours = {}\".format(hours))\n",
    "print (\"Predicted Score = {}\".format(own_pred[0]))"
   ]
  },
  {
   "cell_type": "markdown",
   "id": "efdc58d3",
   "metadata": {},
   "source": [
    "# CONCLUSION:\n",
    "From the above result we can say that if a studied for 9.25 then student will secured 93.18 MARKS"
   ]
  },
  {
   "cell_type": "code",
   "execution_count": null,
   "id": "1094527f",
   "metadata": {},
   "outputs": [],
   "source": []
  }
 ],
 "metadata": {
  "kernelspec": {
   "display_name": "Python 3",
   "language": "python",
   "name": "python3"
  },
  "language_info": {
   "codemirror_mode": {
    "name": "ipython",
    "version": 3
   },
   "file_extension": ".py",
   "mimetype": "text/x-python",
   "name": "python",
   "nbconvert_exporter": "python",
   "pygments_lexer": "ipython3",
   "version": "3.8.8"
  }
 },
 "nbformat": 4,
 "nbformat_minor": 5
}
